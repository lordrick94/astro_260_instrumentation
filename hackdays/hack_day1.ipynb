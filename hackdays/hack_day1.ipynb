{
 "cells": [
  {
   "cell_type": "code",
   "execution_count": 2,
   "metadata": {},
   "outputs": [],
   "source": [
    "from astropy import units as u\n",
    "import pandas as pd"
   ]
  },
  {
   "cell_type": "code",
   "execution_count": 25,
   "metadata": {},
   "outputs": [],
   "source": [
    "# Make a pandas DataFrame to store the data\n",
    "df = pd.DataFrame(columns=['Keck_cassegrain','Blanco_Telescope_cassegrain','Blanco_Telescope_prime_focus'])"
   ]
  },
  {
   "cell_type": "code",
   "execution_count": 6,
   "metadata": {},
   "outputs": [
    {
     "name": "stdout",
     "output_type": "stream",
     "text": [
      "Telescope: Keck_cassegrain\n",
      "f_ratio = 15.0\n",
      "focal_plane_scale = 1.3750987083139758 arcsec / mm\n",
      "image_size_on_focal_plane = 65.44984694978736 mm\n",
      "image_size_in_pixels = 4363.323129985824\n",
      "Telescope: Blanco_Telescope_cassegrain\n",
      "f_ratio = 8.04\n",
      "focal_plane_scale = 6.413706661912201 arcsec / mm\n",
      "image_size_on_focal_plane = 14.032447186034409 mm\n",
      "image_size_in_pixels = 935.4964790689608\n",
      "Telescope: Blanco_Telescope_prime_focus\n",
      "f_ratio = 2.875\n",
      "focal_plane_scale = 17.93607010844316 arcsec / mm\n",
      "image_size_on_focal_plane = 5.017821599483698 mm\n",
      "image_size_in_pixels = 334.5214399655799\n"
     ]
    }
   ],
   "source": [
    "def get_vals(focal_length, D_tel, Telescope_name,image_size=1.5*u.arcmin):\n",
    "\n",
    "    print(f\"Telescope: {Telescope_name}\")\n",
    "    f_ratio = focal_length / D_tel\n",
    "\n",
    "    print(f\"f_ratio = {f_ratio}\")\n",
    "\n",
    "    focal_plane_scale = (1 * u.rad).to(u.arcsec)/focal_length.to(u.mm)\n",
    "\n",
    "    print(f\"focal_plane_scale = {focal_plane_scale}\")\n",
    "\n",
    "    image_size_on_focal_plane = image_size.to(u.arcsec) / focal_plane_scale\n",
    "\n",
    "    print(f\"image_size_on_focal_plane = {image_size_on_focal_plane}\")\n",
    "\n",
    "    pixel_size = 15 * u.micron\n",
    "\n",
    "    image_size_in_pixels = image_size_on_focal_plane.to(u.micron) / pixel_size\n",
    "\n",
    "    print(f\"image_size_in_pixels = {image_size_in_pixels}\")\n",
    "\n",
    "\n",
    "# Dictionary to store telescope data\n",
    "telescopes = {\n",
    "    \"Keck_cassegrain\": {\n",
    "        \"focal_length\": 150 * u.m,\n",
    "        \"D_tel\": 10 * u.m\n",
    "    },\n",
    "    \"Blanco_Telescope_cassegrain\": {\n",
    "        \"focal_length\": 32.16 * u.m,\n",
    "        \"D_tel\": 4 * u.m\n",
    "    },\n",
    "    \"Blanco_Telescope_prime_focus\": {\n",
    "        \"focal_length\": 11.5 * u.m,\n",
    "        \"D_tel\": 4 * u.m\n",
    "    }\n",
    "}\n",
    "\n",
    "for telescope_name, telescope_data in telescopes.items():\n",
    "    get_vals(telescope_data['focal_length'], telescope_data['D_tel'], telescope_name)\n"
   ]
  },
  {
   "cell_type": "code",
   "execution_count": 7,
   "metadata": {},
   "outputs": [
    {
     "name": "stdout",
     "output_type": "stream",
     "text": [
      "Telescope: Collimator\n",
      "f_ratio = 0.015 m / mm\n",
      "focal_plane_scale = 91.67324722093171 arcsec / mm\n",
      "image_size_on_focal_plane = 0.01090830782496456 mm\n",
      "image_size_in_pixels = 0.7272205216643041\n"
     ]
    }
   ],
   "source": [
    "get_vals(2.25*u.m, 150*u.mm, \"Collimator\", image_size=1.*u.arcsec)"
   ]
  },
  {
   "cell_type": "code",
   "execution_count": 9,
   "metadata": {},
   "outputs": [
    {
     "name": "stdout",
     "output_type": "stream",
     "text": [
      "Telescope: Keck\n",
      "f_ratio = 15.0\n",
      "focal_plane_scale = 1.3750987083139758 arcsec / mm\n",
      "image_size_on_focal_plane = 0.727220521664304 mm\n",
      "image_size_in_pixels = 48.481368110953596\n"
     ]
    }
   ],
   "source": [
    "get_vals(150*u.m, 10*u.m, \"Keck\", image_size=1.*u.arcsec)"
   ]
  },
  {
   "cell_type": "code",
   "execution_count": 12,
   "metadata": {},
   "outputs": [
    {
     "name": "stdout",
     "output_type": "stream",
     "text": [
      "Telescope: Collimator\n",
      "f_ratio = 0.015 m / mm\n",
      "focal_plane_scale = 91.67324722093171 arcsec / mm\n",
      "image_size_on_focal_plane = 0.7297657934901292 mm\n",
      "image_size_in_pixels = 48.65105289934195\n"
     ]
    }
   ],
   "source": [
    "get_vals(2.25*u.m, 150*u.mm, \"Collimator\", image_size=66.9*u.arcsec)"
   ]
  },
  {
   "cell_type": "code",
   "execution_count": 28,
   "metadata": {},
   "outputs": [
    {
     "name": "stdout",
     "output_type": "stream",
     "text": [
      "Telescope: Camera\n",
      "f_ratio = 0.7666666666666667\n",
      "focal_plane_scale = 1793.6070108443162 arcsec / mm\n",
      "image_size_on_focal_plane = 0.037354894129489745 mm\n",
      "image_size_in_pixels = 2.4903262752993167\n"
     ]
    }
   ],
   "source": [
    "get_vals(0.115*u.m, 150/1000*u.m, \"Camera\", image_size=67*u.arcsec)"
   ]
  }
 ],
 "metadata": {
  "kernelspec": {
   "display_name": "astr_257",
   "language": "python",
   "name": "python3"
  },
  "language_info": {
   "codemirror_mode": {
    "name": "ipython",
    "version": 3
   },
   "file_extension": ".py",
   "mimetype": "text/x-python",
   "name": "python",
   "nbconvert_exporter": "python",
   "pygments_lexer": "ipython3",
   "version": "3.11.5"
  }
 },
 "nbformat": 4,
 "nbformat_minor": 2
}
