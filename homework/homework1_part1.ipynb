{
 "cells": [
  {
   "cell_type": "code",
   "execution_count": 1,
   "metadata": {},
   "outputs": [],
   "source": [
    "import astropy.units as u\n",
    "import numpy as np"
   ]
  },
  {
   "cell_type": "markdown",
   "metadata": {},
   "source": [
    "## Qn 1.If you did project your circular PSF onto the pixel array more correctly, would you expect the signal to noise of the pixels at the edge to be lower or higher than the ones in the center? Why?\n",
    "\n",
    "##### I would expect the pixels at the edge to have a lower SNR, since only the a fraction of the pixel is reciving photons, it will recieve fewer photons but the same read noise."
   ]
  },
  {
   "cell_type": "code",
   "execution_count": 2,
   "metadata": {},
   "outputs": [],
   "source": [
    "# Given data\n",
    "\n",
    "t_exp = 600 * u.s\n",
    "pixel_size = 15 * u.micron\n",
    "\n",
    "dark_current_rate = 3.5 * u.electron / u.hour / u.pixel\n",
    "\n",
    "read_noise = 3 * u.electron   #per pixel\n",
    "\n",
    "sky_count_rate = 150 * u.photon / u.s / u.arcsec**2\n",
    "\n",
    "source_count_rate = 10 * u.photon / u.s \n"
   ]
  },
  {
   "cell_type": "code",
   "execution_count": null,
   "metadata": {},
   "outputs": [],
   "source": [
    "# Getting poisson noise\n",
    "def poisson_noise(rate, t_exp):\n",
    "    return rate * t_exp\n",
    "\n",
    "# Getting Sky background noise\n",
    "def sky_noise(sky_count_rate, t_exp, psf_fwhm):\n",
    "\n",
    "    # Calculate the image area in arcsec^2\n",
    "    Image_area = psf_fwhm**2 * np.pi/4\n",
    "\n",
    "    return sky_count_rate * Image_area * t_exp\n",
    "\n",
    "# Getting read noise\n",
    "def read_noise(read_noise, num_pixels):\n",
    "    return read_noise**2 * num_pixels\n",
    "\n",
    "# Get the number of pixels from focal plane scale,psf_fwhm and pixel size\n",
    "def get_pix_num(focal_plane_scale, psf_fwhm, pixel_size):\n",
    "    return (focal_plane_scale / psf_fwhm)**2 * (psf_fwhm / pixel_size)**2\n",
    "\n",
    "def signal_to_noise(source_count_rate, sky_count_rate, read_noise, t_exp, num_pixels, psf_fwhm):\n",
    "    # Calculate the total signal\n",
    "    total_signal = poisson_noise(source_count_rate,t_exp)\n",
    "\n",
    "    # Calculate the total noise\n",
    "    total_noise = np.sqrt(poisson_noise(source_count_rate,t_exp) + sky_noise(sky_count_rate, t_exp, psf_fwhm) + read_noise(read_noise, num_pixels))\n",
    "\n",
    "    return total_signal / total_noise"
   ]
  },
  {
   "cell_type": "markdown",
   "metadata": {},
   "source": [
    "## Problem 1"
   ]
  },
  {
   "cell_type": "markdown",
   "metadata": {},
   "source": [
    "#### Scenario 1:"
   ]
  },
  {
   "cell_type": "code",
   "execution_count": null,
   "metadata": {},
   "outputs": [],
   "source": []
  },
  {
   "cell_type": "code",
   "execution_count": null,
   "metadata": {},
   "outputs": [],
   "source": []
  },
  {
   "cell_type": "code",
   "execution_count": null,
   "metadata": {},
   "outputs": [],
   "source": []
  }
 ],
 "metadata": {
  "kernelspec": {
   "display_name": "astr_257",
   "language": "python",
   "name": "python3"
  },
  "language_info": {
   "codemirror_mode": {
    "name": "ipython",
    "version": 3
   },
   "file_extension": ".py",
   "mimetype": "text/x-python",
   "name": "python",
   "nbconvert_exporter": "python",
   "pygments_lexer": "ipython3",
   "version": "3.11.5"
  }
 },
 "nbformat": 4,
 "nbformat_minor": 2
}
