{
 "cells": [
  {
   "cell_type": "code",
   "execution_count": 57,
   "metadata": {},
   "outputs": [],
   "source": [
    "import astropy.units as u\n",
    "import numpy as np"
   ]
  },
  {
   "cell_type": "markdown",
   "metadata": {},
   "source": [
    "#### Qn 1.If you did project your circular PSF onto the pixel array more correctly, would you expect the signal to noise of the pixels at the edge to be lower or higher than the ones in the center? Why?\n",
    "\n",
    "#### Answer:I would expect the pixels at the edge to have a lower SNR, since only the a fraction of the pixel is reciving photons, it will recieve fewer photons but the same read noise."
   ]
  },
  {
   "cell_type": "code",
   "execution_count": 58,
   "metadata": {},
   "outputs": [],
   "source": [
    "# Given data\n",
    "\n",
    "t_exp = 600 * u.s\n",
    "pixel_size = 15 * u.micron\n",
    "\n",
    "dark_current_rate = 3.5 * u.electron / u.hour / u.pixel\n",
    "\n",
    "read_noise = 3   #per pixel\n",
    "\n",
    "sky_count_rate = 150  /u.s / u.arcsec**2\n",
    "\n",
    "source_count_rate = 10  / u.s \n"
   ]
  },
  {
   "cell_type": "code",
   "execution_count": 59,
   "metadata": {},
   "outputs": [],
   "source": [
    "# Getting poisson noise\n",
    "def poisson_noise(rate, t_exp):\n",
    "    return rate * t_exp\n",
    "\n",
    "# Getting Sky background noise\n",
    "def sky_noise(sky_count_rate, t_exp, psf_fwhm):\n",
    "\n",
    "    # Calculate the image area in arcsec^2\n",
    "    Image_area = psf_fwhm**2 * np.pi/4\n",
    "\n",
    "    return sky_count_rate * Image_area * t_exp\n",
    "\n",
    "# Getting read noise\n",
    "def get_read_noise(read_noise, num_pixels):\n",
    "    return (read_noise)**2 * num_pixels\n",
    "\n",
    "# Get the number of pixels from focal plane scale,psf_fwhm and pixel size\n",
    "def get_pix_num(focal_plane_scale, psf_fwhm, pixel_size):\n",
    "    image_area = (psf_fwhm/focal_plane_scale)**2 * np.pi/4\n",
    "    return image_area / ((pixel_size.to(u.mm))**2)\n",
    "\n",
    "def signal_to_noise(source_count_rate, sky_count_rate, read_noise, t_exp, num_pixels, psf_fwhm):\n",
    "    # Calculate the total signal\n",
    "    total_signal = poisson_noise(source_count_rate,t_exp)\n",
    "\n",
    "    # Calculate the total noise\n",
    "    total_noise = np.sqrt(poisson_noise(source_count_rate,t_exp) + sky_noise(sky_count_rate, t_exp, psf_fwhm) + get_read_noise(read_noise, num_pixels))\n",
    "\n",
    "    return total_signal / total_noise"
   ]
  },
  {
   "cell_type": "markdown",
   "metadata": {},
   "source": [
    "## Problem 1"
   ]
  },
  {
   "cell_type": "markdown",
   "metadata": {},
   "source": [
    "#### Scenario 1:"
   ]
  },
  {
   "cell_type": "code",
   "execution_count": 70,
   "metadata": {},
   "outputs": [
    {
     "name": "stdout",
     "output_type": "stream",
     "text": [
      "The number of pixels is 25.13\n",
      "The signal to noise ratio is 15.77\n"
     ]
    }
   ],
   "source": [
    "focal_plane_scale = 16.5 * u.arcsec / u.mm\n",
    "psf_fwhm = 1.4 * u.arcsec\n",
    "\n",
    "num_pixels = get_pix_num(focal_plane_scale, psf_fwhm, pixel_size)\n",
    "print(f'The number of pixels is {num_pixels:.2f}')\n",
    "\n",
    "# Calculate the signal to noise ratio\n",
    "snr = signal_to_noise(source_count_rate, sky_count_rate, read_noise,t_exp, num_pixels, psf_fwhm)\n",
    "print(f'The signal to noise ratio is {snr:.2f}')"
   ]
  },
  {
   "cell_type": "markdown",
   "metadata": {},
   "source": [
    "#### Scenario 2:"
   ]
  },
  {
   "cell_type": "code",
   "execution_count": 71,
   "metadata": {},
   "outputs": [
    {
     "name": "stdout",
     "output_type": "stream",
     "text": [
      "The number of pixels is 6.28\n",
      "The signal to noise ratio is 29.74\n"
     ]
    }
   ],
   "source": [
    "focal_plane_scale = 16.5 * u.arcsec / u.mm\n",
    "psf_fwhm = 0.7 * u.arcsec\n",
    "\n",
    "num_pixels = get_pix_num(focal_plane_scale, psf_fwhm, pixel_size)\n",
    "print(f'The number of pixels is {num_pixels:.2f}')\n",
    "\n",
    "# Calculate the signal to noise ratio\n",
    "snr = signal_to_noise(source_count_rate, sky_count_rate, read_noise,t_exp, num_pixels, psf_fwhm)\n",
    "print(f'The signal to noise ratio is {snr:.2f}')"
   ]
  },
  {
   "cell_type": "markdown",
   "metadata": {},
   "source": [
    "#### Qn 2.Compare the signal to noise in Scenarios 1 and 2 to the PSF sizes. How does signal to noise scale with the size (diameter) of the PSF?\n",
    "\n",
    "#### Answer:A smaller PSF size offers a higher SNR since you have fewer pixels therefore less read noise"
   ]
  },
  {
   "cell_type": "markdown",
   "metadata": {},
   "source": [
    "#### Scenario 3:"
   ]
  },
  {
   "cell_type": "code",
   "execution_count": 72,
   "metadata": {},
   "outputs": [
    {
     "name": "stdout",
     "output_type": "stream",
     "text": [
      "The number of pixels is 3618.75\n",
      "The signal to noise ratio is 14.26\n"
     ]
    }
   ],
   "source": [
    "focal_plane_scale = 1.375 * u.arcsec / u.mm\n",
    "psf_fwhm = 1.4 * u.arcsec\n",
    "\n",
    "num_pixels = get_pix_num(focal_plane_scale, psf_fwhm, pixel_size)\n",
    "print(f'The number of pixels is {num_pixels:.2f}')\n",
    "\n",
    "# Calculate the signal to noise ratio\n",
    "snr = signal_to_noise(source_count_rate, sky_count_rate, read_noise,t_exp, num_pixels, psf_fwhm)\n",
    "print(f'The signal to noise ratio is {snr:.2f}')"
   ]
  },
  {
   "cell_type": "markdown",
   "metadata": {},
   "source": [
    "#### Scenario 4:"
   ]
  },
  {
   "cell_type": "code",
   "execution_count": 73,
   "metadata": {},
   "outputs": [
    {
     "name": "stdout",
     "output_type": "stream",
     "text": [
      "The number of pixels is 3618.75\n",
      "The signal to noise ratio is 62.69\n"
     ]
    }
   ],
   "source": [
    "focal_plane_scale = 1.375 * u.arcsec / u.mm\n",
    "psf_fwhm = 1.4 * u.arcsec\n",
    "\n",
    "new_source_count_rate = 160  / u.s\n",
    "new_sky_count_rate = 2400  /u.s / u.arcsec**2\n",
    "\n",
    "num_pixels = get_pix_num(focal_plane_scale, psf_fwhm, pixel_size)\n",
    "print(f'The number of pixels is {num_pixels:.2f}')\n",
    "\n",
    "# Calculate the signal to noise ratio\n",
    "snr = signal_to_noise(new_source_count_rate, new_sky_count_rate, read_noise,t_exp, num_pixels, psf_fwhm)\n",
    "print(f'The signal to noise ratio is {snr:.2f}')"
   ]
  },
  {
   "cell_type": "markdown",
   "metadata": {},
   "source": [
    "#### Qn 3. The APF (Automated Planet Finder) telescope on Mt. Hamilton is 2.4 m in diameter and has a focal plane scale of 5.73 arcsec/mm. Since it is the same diameter as the SDSS telescope (at least for the purposes of Astro 260 homework), the source and background count rates are the same. If you used the APF in scenarios 1 and 2 instead of the SDSS telescope, how would you expect the signal to noise to change? You don’t have to compute the signal to noise for this case, but you must justify your answer.\n",
    "\n",
    "#### Answer:I expect the signal to noise ratio to decrease since now you will require more pixels to read the same area of the sky. This means that the read noise will increase and the signal to noise ratio will decrease."
   ]
  },
  {
   "cell_type": "code",
   "execution_count": 69,
   "metadata": {},
   "outputs": [
    {
     "name": "stdout",
     "output_type": "stream",
     "text": [
      "The number of pixels is 208.38\n",
      "The signal to noise ratio is 15.68\n",
      "The signal to noise ratio is 29.10\n"
     ]
    }
   ],
   "source": [
    "# APR Scenario\n",
    "\n",
    "apf_focal_plane_scale = 5.73 * u.arcsec / u.mm\n",
    "psf_fwhm_1 = 1.4 * u.arcsec\n",
    "psf_fwhm_2 = 0.7 * u.arcsec\n",
    "\n",
    "num_pixels = get_pix_num(apf_focal_plane_scale, psf_fwhm, pixel_size)\n",
    "print(f'The number of pixels is {num_pixels:.2f}')\n",
    "\n",
    "# Calculate the signal to noise ratio\n",
    "snr = signal_to_noise(source_count_rate, sky_count_rate, read_noise,t_exp, num_pixels, psf_fwhm_1)\n",
    "print(f'The signal to noise ratio is {snr:.2f}')\n",
    "\n",
    "snr = signal_to_noise(source_count_rate, sky_count_rate, read_noise,t_exp, num_pixels, psf_fwhm_2)\n",
    "print(f'The signal to noise ratio is {snr:.2f}')"
   ]
  }
 ],
 "metadata": {
  "kernelspec": {
   "display_name": "astr_257",
   "language": "python",
   "name": "python3"
  },
  "language_info": {
   "codemirror_mode": {
    "name": "ipython",
    "version": 3
   },
   "file_extension": ".py",
   "mimetype": "text/x-python",
   "name": "python",
   "nbconvert_exporter": "python",
   "pygments_lexer": "ipython3",
   "version": "3.11.5"
  }
 },
 "nbformat": 4,
 "nbformat_minor": 2
}
