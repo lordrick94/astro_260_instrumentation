{
 "cells": [
  {
   "cell_type": "code",
   "execution_count": 1,
   "metadata": {},
   "outputs": [],
   "source": [
    "import numpy as np\n",
    "import astropy.units as u"
   ]
  },
  {
   "cell_type": "markdown",
   "metadata": {},
   "source": [
    "### Qn 1."
   ]
  },
  {
   "cell_type": "code",
   "execution_count": 2,
   "metadata": {},
   "outputs": [],
   "source": [
    "gratings = np.array([400, 700, 1200]) # grooves per mm\n",
    "h_alpha = 656.3 * u.nm\n",
    "d_vals = (1/gratings * u.mm).to(u.m)\n"
   ]
  },
  {
   "cell_type": "code",
   "execution_count": 3,
   "metadata": {},
   "outputs": [
    {
     "name": "stdout",
     "output_type": "stream",
     "text": [
      "[ 7.54240896 13.27970449 23.18990749] deg\n"
     ]
    }
   ],
   "source": [
    "def get_blaze_angle(d, l):\n",
    "    return np.arcsin(l / (2 * d)) # For 1st order\n",
    "blaze_angle = get_blaze_angle(d_vals, h_alpha)\n",
    "print(blaze_angle.to(u.deg))"
   ]
  },
  {
   "cell_type": "markdown",
   "metadata": {},
   "source": [
    "### Qn 2."
   ]
  },
  {
   "cell_type": "code",
   "execution_count": 4,
   "metadata": {},
   "outputs": [
    {
     "name": "stdout",
     "output_type": "stream",
     "text": [
      "[1260.48971472 2246.85202368 4078.25560388] 1 / rad\n"
     ]
    }
   ],
   "source": [
    "slit_size = (1*u.arcsec).to(u.rad)\n",
    "D_tel = 6.5 * u.m\n",
    "D_beam = (150 * u.mm).to(u.m)\n",
    "\n",
    "def get_resolving_power(D_tel, D_beam, slit_size, blaze_angle):\n",
    "    return (2*np.tan(blaze_angle)/ slit_size)* (D_beam / D_tel) \n",
    "resolving_power = get_resolving_power(D_tel, D_beam, slit_size, blaze_angle)\n",
    "print(resolving_power)"
   ]
  },
  {
   "cell_type": "markdown",
   "metadata": {},
   "source": [
    "### Qn 3. \n",
    "\n",
    "#### Answer: Doubling the beam size will double the resolving power."
   ]
  },
  {
   "cell_type": "markdown",
   "metadata": {},
   "source": [
    "### Qn 4."
   ]
  },
  {
   "cell_type": "code",
   "execution_count": 5,
   "metadata": {},
   "outputs": [
    {
     "name": "stdout",
     "output_type": "stream",
     "text": [
      "[2520.97942945 4493.70404736 8156.51120776] 1 / rad\n"
     ]
    }
   ],
   "source": [
    "resolving_power = get_resolving_power(D_tel, 2*D_beam, slit_size, blaze_angle)  # 2x beam diameter\n",
    "print(resolving_power)"
   ]
  },
  {
   "cell_type": "markdown",
   "metadata": {},
   "source": [
    "### Qn 5.\n",
    "#### Answer: When you double the beam size, you will need a bigger camera/spectrograph to capture the light."
   ]
  },
  {
   "cell_type": "markdown",
   "metadata": {},
   "source": [
    "### Qn 6."
   ]
  },
  {
   "cell_type": "code",
   "execution_count": 6,
   "metadata": {},
   "outputs": [],
   "source": [
    "def get_vals(focal_length, D_tel, ):\n",
    "    f_ratio = focal_length / D_tel\n",
    "\n",
    "    print(f\"f-ratio: {f_ratio}\")"
   ]
  },
  {
   "cell_type": "code",
   "execution_count": 7,
   "metadata": {},
   "outputs": [
    {
     "name": "stdout",
     "output_type": "stream",
     "text": [
      "f-ratio: 0.38333333333333336\n"
     ]
    }
   ],
   "source": [
    "focal_length = 0.115 * u.m # Focal length of the Camera\n",
    "D_tel = 2*(150/1000 * u.m) # Beam diameter <= Camera diameter\n",
    "get_vals(focal_length, D_tel)"
   ]
  },
  {
   "cell_type": "markdown",
   "metadata": {},
   "source": [
    "### Qn 7."
   ]
  },
  {
   "cell_type": "code",
   "execution_count": 8,
   "metadata": {},
   "outputs": [
    {
     "name": "stdout",
     "output_type": "stream",
     "text": [
      "Spectrograph Length: 0.23 m\n",
      "Volume: 0.004064435495581795 m3\n"
     ]
    }
   ],
   "source": [
    "# Original Design\n",
    "# Assuming camera diameter at 150mm\n",
    "D_tel = (150 * u.mm).to(u.m) # Beam diameter <= Camera diameter\n",
    "\n",
    "# Length = collimator focal length + camera focal length\n",
    "focal_length = 0.115 * u.m\n",
    "camera_focal_length = 0.115 * u.m # Since Diameters are same\n",
    "\n",
    "# Spectrograph length\n",
    "length = focal_length + camera_focal_length\n",
    "print('Spectrograph Length:',length)\n",
    "\n",
    "# Assuming a cylinder, the volume of the spectrograph is\n",
    "def get_volume(D_tel, length):\n",
    "    return np.pi * (D_tel/2)**2 * length\n",
    "volume_1 = get_volume(D_tel, length)\n",
    "print('Volume:',volume_1)"
   ]
  },
  {
   "cell_type": "code",
   "execution_count": 9,
   "metadata": {},
   "outputs": [
    {
     "name": "stdout",
     "output_type": "stream",
     "text": [
      "Volume: 0.01625774198232718 m3\n",
      "Volume Ratio: 4.0\n"
     ]
    }
   ],
   "source": [
    "# New Design\n",
    "# Assuming camera diameter at 300mm\n",
    "D_tel = (300 * u.mm).to(u.m) # Beam diameter <= Camera diameter\n",
    "\n",
    "# Volume of the spectrograph\n",
    "volume_2 = get_volume(D_tel, length)\n",
    "print('Volume:',volume_2)\n",
    "\n",
    "# Ratio of the volumes\n",
    "print('Volume Ratio:',volume_2/volume_1)"
   ]
  },
  {
   "cell_type": "markdown",
   "metadata": {},
   "source": [
    "#### Assuming the density is constant, the new design will be 4 times heavier than the original design"
   ]
  },
  {
   "cell_type": "markdown",
   "metadata": {},
   "source": [
    "### Qn 8.\n",
    "\n",
    "#### Answer: The optical design is sound. The biggest challenge would be structural stability and alignment of the optics. \n",
    "#### Since the spectrograph is now larger and more massive."
   ]
  },
  {
   "cell_type": "code",
   "execution_count": null,
   "metadata": {},
   "outputs": [],
   "source": []
  },
  {
   "cell_type": "code",
   "execution_count": null,
   "metadata": {},
   "outputs": [],
   "source": []
  },
  {
   "cell_type": "code",
   "execution_count": null,
   "metadata": {},
   "outputs": [],
   "source": []
  },
  {
   "cell_type": "code",
   "execution_count": null,
   "metadata": {},
   "outputs": [],
   "source": []
  }
 ],
 "metadata": {
  "kernelspec": {
   "display_name": "frb_env",
   "language": "python",
   "name": "python3"
  },
  "language_info": {
   "codemirror_mode": {
    "name": "ipython",
    "version": 3
   },
   "file_extension": ".py",
   "mimetype": "text/x-python",
   "name": "python",
   "nbconvert_exporter": "python",
   "pygments_lexer": "ipython3",
   "version": "3.12.8"
  }
 },
 "nbformat": 4,
 "nbformat_minor": 2
}
